{
 "cells": [
  {
   "cell_type": "code",
   "execution_count": null,
   "id": "c8e07979-016d-4021-997c-5106b5d826b9",
   "metadata": {},
   "outputs": [
    {
     "name": "stderr",
     "output_type": "stream",
     "text": [
      "unexpected error: Error: Unexpected pending rebuildTimer\n",
      "    at Object.sys.setTimeout (C:\\Users\\Carl\\AppData\\Roaming\\npm\\node_modules\\\u001b[4mtslab\u001b[24m\\dist\\converter.js:83:19)\n",
      "    at scheduleProgramUpdate (C:\\Users\\Carl\\AppData\\Roaming\\npm\\node_modules\\\u001b[4mtslab\u001b[24m\\node_modules\\\u001b[4m@tslab\u001b[24m\\typescript-for-tslab\\lib\\typescript.js:111417:41)\n",
      "    at onSourceFileChange (C:\\Users\\Carl\\AppData\\Roaming\\npm\\node_modules\\\u001b[4mtslab\u001b[24m\\node_modules\\\u001b[4m@tslab\u001b[24m\\typescript-for-tslab\\lib\\typescript.js:111491:13)\n",
      "    at C:\\Users\\Carl\\AppData\\Roaming\\npm\\node_modules\\\u001b[4mtslab\u001b[24m\\node_modules\\\u001b[4m@tslab\u001b[24m\\typescript-for-tslab\\lib\\typescript.js:104579:78\n",
      "    at updateContent (C:\\Users\\Carl\\AppData\\Roaming\\npm\\node_modules\\\u001b[4mtslab\u001b[24m\\dist\\converter.js:568:9)\n",
      "    at Object.convert (C:\\Users\\Carl\\AppData\\Roaming\\npm\\node_modules\\\u001b[4mtslab\u001b[24m\\dist\\converter.js:218:9)\n",
      "    at Object.execute (C:\\Users\\Carl\\AppData\\Roaming\\npm\\node_modules\\\u001b[4mtslab\u001b[24m\\dist\\executor.js:140:38)\n",
      "    at JupyterHandlerImpl.handleExecuteImpl (C:\\Users\\Carl\\AppData\\Roaming\\npm\\node_modules\\\u001b[4mtslab\u001b[24m\\dist\\jupyter.js:219:38)\n",
      "    at C:\\Users\\Carl\\AppData\\Roaming\\npm\\node_modules\\\u001b[4mtslab\u001b[24m\\dist\\jupyter.js:177:57\n",
      "    at async JupyterHandlerImpl.handleExecute (C:\\Users\\Carl\\AppData\\Roaming\\npm\\node_modules\\\u001b[4mtslab\u001b[24m\\dist\\jupyter.js:177:21)\n",
      "UnhandledPromiseRejection: Error: Unexpected pending rebuildTimer\n",
      "    at Object.sys.setTimeout (C:\\Users\\Carl\\AppData\\Roaming\\npm\\node_modules\\\u001b[4mtslab\u001b[24m\\dist\\converter.js:83:19)\n",
      "    at scheduleProgramUpdate (C:\\Users\\Carl\\AppData\\Roaming\\npm\\node_modules\\\u001b[4mtslab\u001b[24m\\node_modules\\\u001b[4m@tslab\u001b[24m\\typescript-for-tslab\\lib\\typescript.js:111417:41)\n",
      "    at onSourceFileChange (C:\\Users\\Carl\\AppData\\Roaming\\npm\\node_modules\\\u001b[4mtslab\u001b[24m\\node_modules\\\u001b[4m@tslab\u001b[24m\\typescript-for-tslab\\lib\\typescript.js:111491:13)\n",
      "    at C:\\Users\\Carl\\AppData\\Roaming\\npm\\node_modules\\\u001b[4mtslab\u001b[24m\\node_modules\\\u001b[4m@tslab\u001b[24m\\typescript-for-tslab\\lib\\typescript.js:104579:78\n",
      "    at updateContent (C:\\Users\\Carl\\AppData\\Roaming\\npm\\node_modules\\\u001b[4mtslab\u001b[24m\\dist\\converter.js:568:9)\n",
      "    at Object.inspect (C:\\Users\\Carl\\AppData\\Roaming\\npm\\node_modules\\\u001b[4mtslab\u001b[24m\\dist\\converter.js:312:9)\n",
      "    at Object.inspect (C:\\Users\\Carl\\AppData\\Roaming\\npm\\node_modules\\\u001b[4mtslab\u001b[24m\\dist\\executor.js:193:21)\n",
      "    at JupyterHandlerImpl.handleInspect (C:\\Users\\Carl\\AppData\\Roaming\\npm\\node_modules\\\u001b[4mtslab\u001b[24m\\dist\\jupyter.js:251:36)\n",
      "    at ZmqServer.handleInspect (C:\\Users\\Carl\\AppData\\Roaming\\npm\\node_modules\\\u001b[4mtslab\u001b[24m\\dist\\jupyter.js:388:38)\n",
      "    at ZmqServer.handleShellMessage (C:\\Users\\Carl\\AppData\\Roaming\\npm\\node_modules\\\u001b[4mtslab\u001b[24m\\dist\\jupyter.js:326:26)\n",
      "UnhandledPromiseRejection: Error: Unexpected pending rebuildTimer\n",
      "    at Object.sys.setTimeout (C:\\Users\\Carl\\AppData\\Roaming\\npm\\node_modules\\\u001b[4mtslab\u001b[24m\\dist\\converter.js:83:19)\n",
      "    at scheduleProgramUpdate (C:\\Users\\Carl\\AppData\\Roaming\\npm\\node_modules\\\u001b[4mtslab\u001b[24m\\node_modules\\\u001b[4m@tslab\u001b[24m\\typescript-for-tslab\\lib\\typescript.js:111417:41)\n",
      "    at onSourceFileChange (C:\\Users\\Carl\\AppData\\Roaming\\npm\\node_modules\\\u001b[4mtslab\u001b[24m\\node_modules\\\u001b[4m@tslab\u001b[24m\\typescript-for-tslab\\lib\\typescript.js:111491:13)\n",
      "    at C:\\Users\\Carl\\AppData\\Roaming\\npm\\node_modules\\\u001b[4mtslab\u001b[24m\\node_modules\\\u001b[4m@tslab\u001b[24m\\typescript-for-tslab\\lib\\typescript.js:104579:78\n",
      "    at updateContent (C:\\Users\\Carl\\AppData\\Roaming\\npm\\node_modules\\\u001b[4mtslab\u001b[24m\\dist\\converter.js:568:9)\n",
      "    at Object.inspect (C:\\Users\\Carl\\AppData\\Roaming\\npm\\node_modules\\\u001b[4mtslab\u001b[24m\\dist\\converter.js:312:9)\n",
      "    at Object.inspect (C:\\Users\\Carl\\AppData\\Roaming\\npm\\node_modules\\\u001b[4mtslab\u001b[24m\\dist\\executor.js:193:21)\n",
      "    at JupyterHandlerImpl.handleInspect (C:\\Users\\Carl\\AppData\\Roaming\\npm\\node_modules\\\u001b[4mtslab\u001b[24m\\dist\\jupyter.js:251:36)\n",
      "    at ZmqServer.handleInspect (C:\\Users\\Carl\\AppData\\Roaming\\npm\\node_modules\\\u001b[4mtslab\u001b[24m\\dist\\jupyter.js:388:38)\n",
      "    at ZmqServer.handleShellMessage (C:\\Users\\Carl\\AppData\\Roaming\\npm\\node_modules\\\u001b[4mtslab\u001b[24m\\dist\\jupyter.js:326:26)\n"
     ]
    }
   ],
   "source": [
    "const fs = require('fs')\n",
    "const path = require('path')\n",
    "const immutable = require('immutable')\n",
    "const x = immutable.Collection({y: 'yes',\n",
    "                      n: 'no'})\n",
    "const arr = immutable.List(['a', 'b', 'c'])\n",
    "const m = new Map([['a', '1'], ['b', 'two']])\n",
    "m.set('1', 'one')\n",
    "m.set('2', 'two')\n",
    "\n",
    "const l = []\n",
    "const s = new Set()\n",
    "function iterateit(iter) {\n",
    "    for (const i of iter) {\n",
    "        console.log(i)\n",
    "    }\n",
    "}\n",
    "//iterator(it, l.push)\n",
    "const it = m.entries()\n",
    "//iterateit(it)\n",
    "const downloads = path.resolve(`${process.env.USERPROFILE}/Downloads`)\n",
    "const file = `${downloads}\\\\js.md`\n",
    "const content = fs.readFileSync(file).toLocaleString()\n",
    "const md = require('markdown-it')\n",
    "md"
   ]
  },
  {
   "cell_type": "code",
   "execution_count": 17,
   "id": "33bb8a0b-5a47-47a8-824e-8a35235b354a",
   "metadata": {},
   "outputs": [
    {
     "name": "stdout",
     "output_type": "stream",
     "text": [
      "[ [ \u001b[32m'y'\u001b[39m, \u001b[32m'yes'\u001b[39m ], [ \u001b[32m'n'\u001b[39m, \u001b[32m'no'\u001b[39m ] ]\n"
     ]
    }
   ],
   "source": [
    "l"
   ]
  },
  {
   "cell_type": "code",
   "execution_count": null,
   "id": "273004b5-0918-43b4-95fa-6bf48911ad59",
   "metadata": {},
   "outputs": [],
   "source": []
  }
 ],
 "metadata": {
  "kernelspec": {
   "display_name": "JavaScript",
   "language": "javascript",
   "name": "jslab"
  },
  "language_info": {
   "file_extension": ".js",
   "mimetype": "text/javascript",
   "name": "javascript",
   "version": ""
  }
 },
 "nbformat": 4,
 "nbformat_minor": 5
}
